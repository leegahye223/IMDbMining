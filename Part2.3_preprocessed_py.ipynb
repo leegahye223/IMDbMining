{
 "cells": [
  {
   "cell_type": "code",
   "execution_count": 5,
   "metadata": {},
   "outputs": [
    {
     "name": "stdout",
     "output_type": "stream",
     "text": [
      "total number of movies:  468149 \n",
      "\n"
     ]
    }
   ],
   "source": [
    "actorFile  = open('actor_movies.txt','r',encoding = \"ISO-8859-1\").read().split('\\n')\n",
    "acctressFile = open('actress_movies.txt','r',encoding = \"ISO-8859-1\").read().split('\\n')\n",
    "\n",
    "\n",
    "# merging movies\n",
    "movie_dict = dict()\n",
    "\n",
    "for i in range(0, len(actorFile)):\n",
    "    l =  actorFile[i].split('\\t\\t')\n",
    "    if not l[0]:\n",
    "        continue\n",
    "    if len(l[1:]) < 10:\n",
    "        continue\n",
    "    for movie in l[1:]:\n",
    "        pos = movie.find(')')\n",
    "        movie = movie[:pos + 1]\n",
    "        movie.strip()\n",
    "        if not movie:\n",
    "            continue\n",
    "        actor = l[0].strip()\n",
    "        if movie in movie_dict:\n",
    "            movie_dict[movie].append(actor)\n",
    "        else:\n",
    "            movie_dict[movie] = [actor]\n",
    "    \n",
    " #=========================================================   \n",
    "\n",
    "for i in range(0, len(acctressFile)):\n",
    "    l =  acctressFile[i].split('\\t\\t')\n",
    "    if not l[0]:\n",
    "        continue\n",
    "    if len(l[1:]) < 10:\n",
    "        continue\n",
    "    for movie in l[1:]:\n",
    "        pos = movie.find(')')\n",
    "        movie = movie[:pos + 1]\n",
    "        movie.strip()\n",
    "        if not movie:\n",
    "            continue\n",
    "        actor = l[0].strip()\n",
    "        if movie in movie_dict:\n",
    "            movie_dict[movie].append(actor)\n",
    "        else:\n",
    "            movie_dict[movie] = [actor]\n",
    "    \n",
    "print(\"total number of movies: \", len(movie_dict))"
   ]
  },
  {
   "cell_type": "code",
   "execution_count": 6,
   "metadata": {},
   "outputs": [
    {
     "name": "stdout",
     "output_type": "stream",
     "text": [
      "total number of actors:  113129 \n",
      "\n"
     ]
    }
   ],
   "source": [
    "# creating actor movie table\n",
    "actor_dict = dict()\n",
    "for movie in movie_dict:\n",
    "    for actor in movie_dict[movie]:\n",
    "        if actor in actor_dict:\n",
    "            actor_dict[actor].append(movie)\n",
    "        else:\n",
    "            actor_dict[actor] = [movie]\n",
    "print(\"total number of actors: \", len(actor_dict))"
   ]
  },
  {
   "cell_type": "code",
   "execution_count": 11,
   "metadata": {},
   "outputs": [
    {
     "name": "stdout",
     "output_type": "stream",
     "text": [
      "total number of movies with more than 5 actors/actresses:  203575\n",
      "total number of actors/actresses:  112456\n"
     ]
    }
   ],
   "source": [
    "# removing movies with less than 5 actors/actresses\n",
    "\n",
    "temp = dict()\n",
    "for movie in movie_dict:\n",
    "    if(len(movie_dict[movie]) >= 5):\n",
    "        temp[movie] = movie_dict[movie]\n",
    "movie_dict = temp\n",
    "print(\"total number of movies with more than 5 actors/actresses: \", len(movie_dict))\n",
    "\n",
    "# creating actor movie table\n",
    "actor_dict = dict()\n",
    "for movie in movie_dict:\n",
    "    for actor in movie_dict[movie]:\n",
    "        if actor in actor_dict:\n",
    "            actor_dict[actor].append(movie)\n",
    "        else:\n",
    "            actor_dict[actor] = [movie]\n",
    "print(\"total number of actors/actresses: \", len(actor_dict))"
   ]
  },
  {
   "cell_type": "code",
   "execution_count": 18,
   "metadata": {},
   "outputs": [],
   "source": [
    "# output newly-filtered movie actor table\n",
    "\n",
    "output = open(\"movie_actor_new.txt\", \"w\")\n",
    "count = 0             \n",
    "for movie in movie_dict.keys():\n",
    "    actors = \"\"\n",
    "    for actor in movie_dict[movie]:\n",
    "        actors += actor + \"\\t\"\n",
    "    actors = actors.rstrip(\"\\t\")\n",
    "    output.write(str(count) + \"\\t\" + str(movie) + \"\\t\" + actors + \"\\n\")\n",
    "    count += 1\n",
    "output.close()"
   ]
  },
  {
   "cell_type": "code",
   "execution_count": 20,
   "metadata": {},
   "outputs": [],
   "source": [
    "# output newly-filtered movie rating table\n",
    "\n",
    "MovRating = open(\"movie_rating.txt\", \"r\", encoding='ISO-8859-1').read().split('\\n')\n",
    "rating_dict = dict()\n",
    "output = open(\"movie_rating_new.txt\", \"w\")\n",
    "count = 0\n",
    "for i in range(0, len(MovRating)):\n",
    "    l = MovRating[i].split('\\t\\t')\n",
    "    if len(l) > 1:\n",
    "        rating_dict[l[0]] = l[1]\n",
    "        count += 1\n",
    "        output.write(str(l[0])+\"\\t\"+str(l[1])+\"\\n\")\n",
    "output.close()"
   ]
  },
  {
   "cell_type": "code",
   "execution_count": 22,
   "metadata": {},
   "outputs": [],
   "source": [
    "# output newly-filtered movie genre table\n",
    "\n",
    "MovGenre = open(\"movie_genre.txt\", \"r\", encoding='ISO-8859-1').read().split('\\n')\n",
    "genre_dict = dict()\n",
    "output = open(\"movie_genre_new.txt\", \"w\")\n",
    "count = 0\n",
    "for i in range(0, len(MovGenre)):\n",
    "    l = MovGenre[i].split('\\t\\t')\n",
    "    if len(l) > 1:\n",
    "        genre_dict[l[0]] = l[1]\n",
    "        count += 1\n",
    "        output.write(str(l[0])+\"\\t\"+str(l[1])+\"\\n\")\n",
    "output.close()"
   ]
  },
  {
   "cell_type": "code",
   "execution_count": 23,
   "metadata": {},
   "outputs": [],
   "source": [
    "# create genre-rating combined table\n",
    "\n",
    "index = 0\n",
    "movie_id_dict = dict()\n",
    "output = open(\"movie_genre_rating_new.txt\", \"w\")\n",
    "for movie in movie_dict.keys():\n",
    "    genre = \"NA\"\n",
    "    rating = \"NA\"\n",
    "    if (movie in genre_dict):\n",
    "        genre = genre_dict[movie]\n",
    "    if (movie in rating_dict):\n",
    "        rating = rating_dict[movie]\n",
    "    MovGR = str(index)+\"\\t\"+str(movie)+\"\\t\"+str(genre)+\"\\t\"+str(rating)+\"\\n\"\n",
    "    output.write(MovGR)\n",
    "    movie_id_dict[index] = movie\n",
    "    index += 1\n",
    "output.close()"
   ]
  }
 ],
 "metadata": {
  "kernelspec": {
   "display_name": "Python 3",
   "language": "python",
   "name": "python3"
  },
  "language_info": {
   "codemirror_mode": {
    "name": "ipython",
    "version": 3
   },
   "file_extension": ".py",
   "mimetype": "text/x-python",
   "name": "python",
   "nbconvert_exporter": "python",
   "pygments_lexer": "ipython3",
   "version": "3.6.4"
  }
 },
 "nbformat": 4,
 "nbformat_minor": 2
}
