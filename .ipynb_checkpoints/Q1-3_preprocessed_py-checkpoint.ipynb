{
 "cells": [
  {
   "cell_type": "markdown",
   "metadata": {},
   "source": [
    "# 1 Actor/Actress network"
   ]
  },
  {
   "cell_type": "markdown",
   "metadata": {},
   "source": [
    "## Question 1"
   ]
  },
  {
   "cell_type": "code",
   "execution_count": null,
   "metadata": {},
   "outputs": [],
   "source": [
    "#Some testing code, not relevant\n",
    "\n",
    "actorFile  = open('actor_movies.txt','r',encoding = \"ISO-8859-1\").read().split('\\n')\n",
    "acctressFile = open('actress_movies.txt','r',encoding = \"ISO-8859-1\").read().split('\\n')\n",
    "\n",
    "fout = open('test.txt','w',encoding = \"ISO-8859-1\")\n",
    "\n",
    "\n",
    "\n",
    "for line in actorFile:\n",
    "    line = line.split('\\t\\t')\n",
    "    if (len(line[1:]) < 10):\n",
    "        continue\n",
    "    \n",
    "    actor = line[0]\n",
    "    fout.write(actor)\n",
    "    \n",
    "    MovieTemp = set(line[1:])\n",
    "    Movies = set()\n",
    "        \n",
    "    while(MovieTemp != set()) :\n",
    "        movie = MovieTemp.pop()\n",
    "        end = movie.find(')')\n",
    "        if(str(movie[0:end+1].strip())):\n",
    "            Movies.add(movie[0:end+1].strip())\n",
    "    #print(Movies)\n",
    "    while (Movies != set()):\n",
    "        movie = Movies.pop()\n",
    "        fout.write(\"\\t\\t\")\n",
    "        fout.write(movie)\n",
    "    \n",
    "    fout.write(\"\\n\")\n",
    "    \n",
    " #=========================================================   \n",
    "\n",
    "for line in acctressFile:\n",
    "    line = line.split('\\t\\t')\n",
    "    if (len(line[1:]) < 10):\n",
    "        continue\n",
    "    \n",
    "    actor = line[0]\n",
    "    #print('=========================')\n",
    "    fout.write(actor)\n",
    "    \n",
    "    print(actor)\n",
    "    MovieTemp = set(line[1:])\n",
    "    Movies = set()\n",
    "        \n",
    "    while(MovieTemp != set()) :\n",
    "        movie = MovieTemp.pop()\n",
    "        end = movie.find(')')\n",
    "        if(str(movie[0:end+1].strip())):\n",
    "            Movies.add(movie[0:end+1].strip())\n",
    "    #print(Movies)\n",
    "    while (Movies != set()):\n",
    "        movie = Movies.pop()\n",
    "        fout.write(\"\\t\\t\")\n",
    "        fout.write(movie)\n",
    "    \n",
    "    fout.write(\"\\n\") \n",
    "\n",
    "    \n",
    "fout.close()   "
   ]
  },
  {
   "cell_type": "code",
   "execution_count": 1,
   "metadata": {},
   "outputs": [
    {
     "name": "stdout",
     "output_type": "stream",
     "text": [
      "# of Actors: 74598\n",
      "# of Actresses: 38534\n",
      "# of Unique Movies: 468149\n"
     ]
    }
   ],
   "source": [
    "actorFile  = open('actor_movies.txt','r',encoding = \"ISO-8859-1\").read().split('\\n')\n",
    "acctressFile = open('actress_movies.txt','r',encoding = \"ISO-8859-1\").read().split('\\n')\n",
    "\n",
    "NActor = 0\n",
    "NActress = 0\n",
    "UniMovie = set()\n",
    "\n",
    "data = []\n",
    "\n",
    "for line in actorFile:\n",
    "    temp = {}\n",
    "    line = line.split('\\t\\t')\n",
    "    if (len(line[1:]) < 10):\n",
    "        continue\n",
    "    \n",
    "    temp['actor'] = line[0]\n",
    "    NActor = NActor + 1\n",
    "    \n",
    "    MovieTemp = set(line[1:])\n",
    "    Movies = set()\n",
    "        \n",
    "    while(MovieTemp != set()) :\n",
    "        movie = MovieTemp.pop()\n",
    "        end = movie.find(')')\n",
    "        if(str(movie[0:end+1].strip())):\n",
    "            Movies.add(movie[0:end+1].strip())\n",
    "            UniMovie.add(movie[0:end+1].strip())\n",
    "            \n",
    "    temp['movie'] = Movies.copy()\n",
    "    data.append(temp.copy())   \n",
    "    \n",
    " #=========================================================   \n",
    "\n",
    "for line in acctressFile:\n",
    "    line = line.split('\\t\\t')\n",
    "    if (len(line[1:]) < 10):\n",
    "        continue\n",
    "        \n",
    "    temp['actor'] = line[0]\n",
    "    NActress =  NActress + 1\n",
    "    \n",
    "    \n",
    "    MovieTemp = set(line[1:])\n",
    "    Movies = set()\n",
    "        \n",
    "    while(MovieTemp != set()) :\n",
    "        movie = MovieTemp.pop()\n",
    "        end = movie.find(')')\n",
    "        if(str(movie[0:end+1].strip())):\n",
    "            Movies.add(movie[0:end+1].strip())\n",
    "            UniMovie.add(movie[0:end+1].strip())            \n",
    "            \n",
    "    temp['movie'] = Movies.copy()\n",
    "    data.append(temp.copy()) \n",
    "    \n",
    "print('# of Actors: ' + str(NActor))\n",
    "print('# of Actresses: ' + str(NActress))\n",
    "print('# of Unique Movies: ' + str(len(UniMovie)))"
   ]
  },
  {
   "cell_type": "markdown",
   "metadata": {},
   "source": [
    "## Question 2"
   ]
  },
  {
   "cell_type": "code",
   "execution_count": null,
   "metadata": {},
   "outputs": [],
   "source": [
    "fout = open('merge.txt','w',encoding = \"ISO-8859-1\")\n",
    "\n",
    "for i in range(len(data)):\n",
    "    for j in range(len(data)):\n",
    "        if (i != j):\n",
    "            wij = float(len((data[i]['movie']).intersection((data[j]['movie'])))) / float(len(data[i]['movie']))\n",
    "            \n",
    "            if wij > 0:\n",
    "                fout.write(str(data[i]['actor'])+'\\t\\t'+str(data[j]['actor'])+'\\t\\t'+str(wij)+'\\n')\n",
    "                \n",
    "fout.close()"
   ]
  },
  {
   "cell_type": "code",
   "execution_count": 2,
   "metadata": {},
   "outputs": [],
   "source": [
    "fout = open('mergeNew.txt','w',encoding = \"ISO-8859-1\")\n",
    "\n",
    "for i in range(len(data)):\n",
    "    for j in range(len(data)):\n",
    "        if (i != j):\n",
    "            wij = float(len((data[i]['movie']).intersection((data[j]['movie'])))) / float(len(data[i]['movie']))\n",
    "            \n",
    "            if wij > 0:\n",
    "                fout.write(str(i)+'\\t\\t'+str(j)+'\\t\\t'+str(wij)+'\\n')\n",
    "                \n",
    "fout.close()"
   ]
  },
  {
   "cell_type": "markdown",
   "metadata": {},
   "source": [
    "# Question 3"
   ]
  },
  {
   "cell_type": "code",
   "execution_count": 15,
   "metadata": {},
   "outputs": [
    {
     "name": "stdout",
     "output_type": "stream",
     "text": [
      "=================\n",
      "Clooney, George\n",
      "Damon, Matt\n",
      "0.11940298507462686\n",
      "=================\n",
      "Cruise, Tom\n",
      "Kidman, Nicole\n",
      "0.1746031746031746\n",
      "=================\n",
      "Depp, Johnny\n",
      "Bonham Carter, Helena\n",
      "0.08163265306122448\n",
      "=================\n",
      "DiCaprio, Leonardo\n",
      "Scorsese, Martin\n",
      "0.10204081632653061\n",
      "=================\n",
      "Hanks, Tom\n",
      "Allen, Tim (I)\n",
      "0.10126582278481013\n",
      "=================\n",
      "Johnson, Dwayne (I)\n",
      "Austin, Steve (IV)\n",
      "0.20512820512820512\n",
      "=================\n",
      "Pitt, Brad\n",
      "Clooney, George\n",
      "0.09859154929577464\n",
      "=================\n",
      "Smith, Will (I)\n",
      "Foster, Darrell\n",
      "0.12244897959183673\n",
      "=================\n",
      "Streep, Meryl\n",
      "De Niro, Robert\n",
      "0.061855670103092786\n",
      "=================\n",
      "Watson, Emma (II)\n",
      "Radcliffe, Daniel\n",
      "0.52\n"
     ]
    }
   ],
   "source": [
    "Namemap = []\n",
    "\n",
    "for i in range(len(data)):\n",
    "    if (data[i]['actor'] == 'Cruise, Tom'):\n",
    "        Maxwij = 0\n",
    "        print('=================')\n",
    "        print(data[i]['actor'])\n",
    "        \n",
    "        for j in range(len(data)):\n",
    "            if (i != j):\n",
    "                wij = float(len((data[i]['movie']).intersection((data[j]['movie'])))) / float(len(data[i]['movie']))\n",
    "                if wij > Maxwij:\n",
    "                    Maxwij = wij\n",
    "                    PrefID = j\n",
    "        print(data[PrefID]['actor'])\n",
    "        print(Maxwij)\n",
    "    elif (data[i]['actor'] == 'Watson, Emma (II)'):\n",
    "        Maxwij = 0\n",
    "        print('=================')\n",
    "        print(data[i]['actor'])\n",
    "        \n",
    "        for j in range(len(data)):\n",
    "            if (i != j):\n",
    "                wij = float(len((data[i]['movie']).intersection((data[j]['movie'])))) / float(len(data[i]['movie']))\n",
    "                if wij > Maxwij:\n",
    "                    Maxwij = wij\n",
    "                    PrefID = j\n",
    "        print(data[PrefID]['actor'])\n",
    "        print(Maxwij)\n",
    "\n",
    "    elif (data[i]['actor'] == 'Clooney, George'):\n",
    "        Maxwij = 0\n",
    "        print('=================')\n",
    "        print(data[i]['actor'])\n",
    "        \n",
    "        for j in range(len(data)):\n",
    "            if (i != j):\n",
    "                wij = float(len((data[i]['movie']).intersection((data[j]['movie'])))) / float(len(data[i]['movie']))\n",
    "                if wij > Maxwij:\n",
    "                    Maxwij = wij\n",
    "                    PrefID = j\n",
    "        print(data[PrefID]['actor'])\n",
    "        print(Maxwij)\n",
    "        \n",
    "    elif (data[i]['actor'] == 'Hanks, Tom'):\n",
    "        Maxwij = 0\n",
    "        print('=================')\n",
    "        print(data[i]['actor'])\n",
    "        \n",
    "        for j in range(len(data)):\n",
    "            if (i != j):\n",
    "                wij = float(len((data[i]['movie']).intersection((data[j]['movie'])))) / float(len(data[i]['movie']))\n",
    "                if wij > Maxwij:\n",
    "                    Maxwij = wij\n",
    "                    PrefID = j\n",
    "        print(data[PrefID]['actor'])\n",
    "        print(Maxwij)\n",
    "        \n",
    "    elif (data[i]['actor'] == 'Johnson, Dwayne (I)'):\n",
    "        Maxwij = 0\n",
    "        print('=================')\n",
    "        print(data[i]['actor'])\n",
    "        \n",
    "        for j in range(len(data)):\n",
    "            if (i != j):\n",
    "                wij = float(len((data[i]['movie']).intersection((data[j]['movie'])))) / float(len(data[i]['movie']))\n",
    "                if wij > Maxwij:\n",
    "                    Maxwij = wij\n",
    "                    PrefID = j\n",
    "        print(data[PrefID]['actor'])\n",
    "        print(Maxwij)\n",
    "        \n",
    "    elif (data[i]['actor'] == 'Depp, Johnny'):\n",
    "        Maxwij = 0\n",
    "        print('=================')\n",
    "        print(data[i]['actor'])\n",
    "        \n",
    "        for j in range(len(data)):\n",
    "            if (i != j):\n",
    "                wij = float(len((data[i]['movie']).intersection((data[j]['movie'])))) / float(len(data[i]['movie']))\n",
    "                if wij > Maxwij:\n",
    "                    Maxwij = wij\n",
    "                    PrefID = j\n",
    "        print(data[PrefID]['actor'])\n",
    "        print(Maxwij)\n",
    "        \n",
    "    elif (data[i]['actor'] == 'Smith, Will (I)'):\n",
    "        Maxwij = 0\n",
    "        print('=================')\n",
    "        print(data[i]['actor'])\n",
    "        \n",
    "        for j in range(len(data)):\n",
    "            if (i != j):\n",
    "                wij = float(len((data[i]['movie']).intersection((data[j]['movie'])))) / float(len(data[i]['movie']))\n",
    "                if wij > Maxwij:\n",
    "                    Maxwij = wij\n",
    "                    PrefID = j\n",
    "        print(data[PrefID]['actor'])\n",
    "        print(Maxwij)\n",
    "        \n",
    "    elif (data[i]['actor'] == 'Streep, Meryl'):\n",
    "        Maxwij = 0\n",
    "        print('=================')\n",
    "        print(data[i]['actor'])\n",
    "        \n",
    "        for j in range(len(data)):\n",
    "            if (i != j):\n",
    "                wij = float(len((data[i]['movie']).intersection((data[j]['movie'])))) / float(len(data[i]['movie']))\n",
    "                if wij > Maxwij:\n",
    "                    Maxwij = wij\n",
    "                    PrefID = j\n",
    "        print(data[PrefID]['actor'])\n",
    "        print(Maxwij)\n",
    "    elif (data[i]['actor'] == 'DiCaprio, Leonardo'):\n",
    "        Maxwij = 0\n",
    "        print('=================')\n",
    "        print(data[i]['actor'])\n",
    "        \n",
    "        for j in range(len(data)):\n",
    "            if (i != j):\n",
    "                wij = float(len((data[i]['movie']).intersection((data[j]['movie'])))) / float(len(data[i]['movie']))\n",
    "                if wij > Maxwij:\n",
    "                    Maxwij = wij\n",
    "                    PrefID = j\n",
    "        print(data[PrefID]['actor'])\n",
    "        print(Maxwij)\n",
    "    elif (data[i]['actor'] == 'Pitt, Brad'):\n",
    "        Maxwij = 0\n",
    "        print('=================')\n",
    "        print(data[i]['actor'])\n",
    "        \n",
    "        for j in range(len(data)):\n",
    "            if (i != j):\n",
    "                wij = float(len((data[i]['movie']).intersection((data[j]['movie'])))) / float(len(data[i]['movie']))\n",
    "                if wij > Maxwij:\n",
    "                    Maxwij = wij\n",
    "                    PrefID = j\n",
    "        print(data[PrefID]['actor'])\n",
    "        print(Maxwij)"
   ]
  },
  {
   "cell_type": "code",
   "execution_count": 13,
   "metadata": {},
   "outputs": [
    {
     "name": "stdout",
     "output_type": "stream",
     "text": [
      "[12812, 14503, 16878, 17285, 27258, 32389, 53248, 62774, 107832, 111298]\n"
     ]
    }
   ],
   "source": []
  },
  {
   "cell_type": "code",
   "execution_count": null,
   "metadata": {},
   "outputs": [],
   "source": [
    "import rpy2.ipython\n",
    "%load_ext rpy2.ipython\n",
    "%R require(ggplot2)\n",
    "%R require(igraph)"
   ]
  },
  {
   "cell_type": "code",
   "execution_count": null,
   "metadata": {},
   "outputs": [],
   "source": [
    "%%R -i NameMap -\n",
    "\n",
    "g <- graph_from_data_frame(edge_list, directed=TRUE)"
   ]
  },
  {
   "cell_type": "code",
   "execution_count": null,
   "metadata": {
    "scrolled": true
   },
   "outputs": [],
   "source": [
    "import pandas as pd\n",
    "\n",
    "edge_list = pd.DataFrame()\n",
    "\n",
    "flag = 0\n",
    "for i in range(len(data)):\n",
    "    print(data[i]['actor'])\n",
    "    for j in range(len(data)):\n",
    "        if (i != j):\n",
    "            wij = float(len((data[i]['movie']).intersection((data[j]['movie'])))) / float(len(data[i]['movie']))\n",
    "            \n",
    "            if wij > 0:\n",
    "                edge_list = edge_list.append({'from':data[i]['actor'], 'to':data[j]['actor'], 'weight':wij}, ignore_index=True)"
   ]
  },
  {
   "cell_type": "code",
   "execution_count": null,
   "metadata": {},
   "outputs": [],
   "source": [
    "\n"
   ]
  },
  {
   "cell_type": "markdown",
   "metadata": {},
   "source": [
    "# An illustration of how to call R in Python"
   ]
  },
  {
   "cell_type": "code",
   "execution_count": 1,
   "metadata": {},
   "outputs": [
    {
     "ename": "ImportError",
     "evalue": "dlopen(/Users/jiahuili/anaconda3/lib/python3.6/site-packages/rpy2/rinterface/_rinterface.cpython-36m-darwin.so, 2): Library not loaded: /Library/Frameworks/R.framework/Versions/3.5/Resources/lib/libR.dylib\n  Referenced from: /Users/jiahuili/anaconda3/lib/python3.6/site-packages/rpy2/rinterface/_rinterface.cpython-36m-darwin.so\n  Reason: image not found",
     "output_type": "error",
     "traceback": [
      "\u001b[0;31m---------------------------------------------------------------------------\u001b[0m",
      "\u001b[0;31mImportError\u001b[0m                               Traceback (most recent call last)",
      "\u001b[0;32m<ipython-input-1-1737613ad3ab>\u001b[0m in \u001b[0;36m<module>\u001b[0;34m()\u001b[0m\n\u001b[1;32m      1\u001b[0m \u001b[0;31m#conda install -c r rpy2\u001b[0m\u001b[0;34m\u001b[0m\u001b[0;34m\u001b[0m\u001b[0m\n\u001b[1;32m      2\u001b[0m \u001b[0;34m\u001b[0m\u001b[0m\n\u001b[0;32m----> 3\u001b[0;31m \u001b[0;32mimport\u001b[0m \u001b[0mrpy2\u001b[0m\u001b[0;34m.\u001b[0m\u001b[0mipython\u001b[0m\u001b[0;34m\u001b[0m\u001b[0m\n\u001b[0m\u001b[1;32m      4\u001b[0m \u001b[0mget_ipython\u001b[0m\u001b[0;34m(\u001b[0m\u001b[0;34m)\u001b[0m\u001b[0;34m.\u001b[0m\u001b[0mrun_line_magic\u001b[0m\u001b[0;34m(\u001b[0m\u001b[0;34m'load_ext'\u001b[0m\u001b[0;34m,\u001b[0m \u001b[0;34m'rpy2.ipython'\u001b[0m\u001b[0;34m)\u001b[0m\u001b[0;34m\u001b[0m\u001b[0m\n\u001b[1;32m      5\u001b[0m \u001b[0mget_ipython\u001b[0m\u001b[0;34m(\u001b[0m\u001b[0;34m)\u001b[0m\u001b[0;34m.\u001b[0m\u001b[0mrun_line_magic\u001b[0m\u001b[0;34m(\u001b[0m\u001b[0;34m'R'\u001b[0m\u001b[0;34m,\u001b[0m \u001b[0;34m'require(ggplot2)'\u001b[0m\u001b[0;34m)\u001b[0m\u001b[0;34m\u001b[0m\u001b[0m\n",
      "\u001b[0;32m~/anaconda3/lib/python3.6/site-packages/rpy2/ipython/__init__.py\u001b[0m in \u001b[0;36m<module>\u001b[0;34m()\u001b[0m\n\u001b[0;32m----> 1\u001b[0;31m \u001b[0;32mfrom\u001b[0m \u001b[0;34m.\u001b[0m\u001b[0mrmagic\u001b[0m \u001b[0;32mimport\u001b[0m \u001b[0mload_ipython_extension\u001b[0m\u001b[0;34m\u001b[0m\u001b[0m\n\u001b[0m",
      "\u001b[0;32m~/anaconda3/lib/python3.6/site-packages/rpy2/ipython/rmagic.py\u001b[0m in \u001b[0;36m<module>\u001b[0;34m()\u001b[0m\n\u001b[1;32m     51\u001b[0m \u001b[0;31m# numpy and rpy2 imports\u001b[0m\u001b[0;34m\u001b[0m\u001b[0;34m\u001b[0m\u001b[0m\n\u001b[1;32m     52\u001b[0m \u001b[0;34m\u001b[0m\u001b[0m\n\u001b[0;32m---> 53\u001b[0;31m \u001b[0;32mimport\u001b[0m \u001b[0mrpy2\u001b[0m\u001b[0;34m.\u001b[0m\u001b[0mrinterface\u001b[0m \u001b[0;32mas\u001b[0m \u001b[0mri\u001b[0m\u001b[0;34m\u001b[0m\u001b[0m\n\u001b[0m\u001b[1;32m     54\u001b[0m \u001b[0;32mimport\u001b[0m \u001b[0mrpy2\u001b[0m\u001b[0;34m.\u001b[0m\u001b[0mrobjects\u001b[0m \u001b[0;32mas\u001b[0m \u001b[0mro\u001b[0m\u001b[0;34m\u001b[0m\u001b[0m\n\u001b[1;32m     55\u001b[0m \u001b[0;32mimport\u001b[0m \u001b[0mrpy2\u001b[0m\u001b[0;34m.\u001b[0m\u001b[0mrobjects\u001b[0m\u001b[0;34m.\u001b[0m\u001b[0mpackages\u001b[0m \u001b[0;32mas\u001b[0m \u001b[0mrpacks\u001b[0m\u001b[0;34m\u001b[0m\u001b[0m\n",
      "\u001b[0;32m~/anaconda3/lib/python3.6/site-packages/rpy2/rinterface/__init__.py\u001b[0m in \u001b[0;36m<module>\u001b[0;34m()\u001b[0m\n\u001b[1;32m     48\u001b[0m \u001b[0;32mdel\u001b[0m\u001b[0;34m(\u001b[0m\u001b[0mos\u001b[0m\u001b[0;34m)\u001b[0m\u001b[0;34m\u001b[0m\u001b[0m\n\u001b[1;32m     49\u001b[0m \u001b[0;34m\u001b[0m\u001b[0m\n\u001b[0;32m---> 50\u001b[0;31m from rpy2.rinterface._rinterface import (baseenv,\n\u001b[0m\u001b[1;32m     51\u001b[0m                                          \u001b[0memptyenv\u001b[0m\u001b[0;34m,\u001b[0m\u001b[0;34m\u001b[0m\u001b[0m\n\u001b[1;32m     52\u001b[0m                                          \u001b[0mendr\u001b[0m\u001b[0;34m,\u001b[0m\u001b[0;34m\u001b[0m\u001b[0m\n",
      "\u001b[0;31mImportError\u001b[0m: dlopen(/Users/jiahuili/anaconda3/lib/python3.6/site-packages/rpy2/rinterface/_rinterface.cpython-36m-darwin.so, 2): Library not loaded: /Library/Frameworks/R.framework/Versions/3.5/Resources/lib/libR.dylib\n  Referenced from: /Users/jiahuili/anaconda3/lib/python3.6/site-packages/rpy2/rinterface/_rinterface.cpython-36m-darwin.so\n  Reason: image not found"
     ]
    }
   ],
   "source": [
    "#conda install -c r rpy2\n",
    "\n",
    "import rpy2.ipython\n",
    "%load_ext rpy2.ipython\n",
    "%R require(ggplot2)\n",
    "%R require(igraph)"
   ]
  },
  {
   "cell_type": "code",
   "execution_count": null,
   "metadata": {},
   "outputs": [],
   "source": [
    "x = 3\n",
    "y = 2"
   ]
  },
  {
   "cell_type": "code",
   "execution_count": null,
   "metadata": {},
   "outputs": [],
   "source": [
    "%%R -i x,y -o z\n",
    "z <- x+y"
   ]
  },
  {
   "cell_type": "code",
   "execution_count": null,
   "metadata": {},
   "outputs": [],
   "source": [
    "for i in range(4):\n",
    "    print(z * i)"
   ]
  },
  {
   "cell_type": "code",
   "execution_count": null,
   "metadata": {},
   "outputs": [],
   "source": [
    "mergedFile  = open('merge.txt','r',encoding = \"ISO-8859-1\").read().split('\\n')\n",
    "\n",
    "\n",
    "t = 0\n",
    "\n",
    "for line in mergedFile:\n",
    "    print(line)\n",
    "    t = t + 1\n",
    "    \n",
    "    if(t == 20):\n",
    "        break"
   ]
  }
 ],
 "metadata": {
  "kernelspec": {
   "display_name": "Python 3",
   "language": "python",
   "name": "python3"
  },
  "language_info": {
   "codemirror_mode": {
    "name": "ipython",
    "version": 3
   },
   "file_extension": ".py",
   "mimetype": "text/x-python",
   "name": "python",
   "nbconvert_exporter": "python",
   "pygments_lexer": "ipython3",
   "version": "3.6.5"
  }
 },
 "nbformat": 4,
 "nbformat_minor": 2
}
